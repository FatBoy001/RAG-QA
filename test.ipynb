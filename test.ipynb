{
 "cells": [
  {
   "cell_type": "code",
   "execution_count": 2,
   "id": "2dfc9e04",
   "metadata": {},
   "outputs": [
    {
     "name": "stderr",
     "output_type": "stream",
     "text": [
      "/mnt/nvme0/kuo/analysis/lib/python3.10/site-packages/tqdm/auto.py:21: TqdmWarning: IProgress not found. Please update jupyter and ipywidgets. See https://ipywidgets.readthedocs.io/en/stable/user_install.html\n",
      "  from .autonotebook import tqdm as notebook_tqdm\n",
      "Loading checkpoint shards: 100%|██████████| 2/2 [00:02<00:00,  1.47s/it]\n"
     ]
    }
   ],
   "source": [
    "import LLMDataGenerator\n",
    "import FileProcesser\n",
    "import os\n",
    "import time"
   ]
  },
  {
   "cell_type": "code",
   "execution_count": 7,
   "id": "2e1ae0f0",
   "metadata": {},
   "outputs": [],
   "source": [
    "with open(\"response.txt\",'r') as f:\n",
    "    response = f.read()\n",
    "response\n",
    "import re"
   ]
  },
  {
   "cell_type": "code",
   "execution_count": null,
   "id": "4dc05553",
   "metadata": {},
   "outputs": [],
   "source": [
    "path = os.path.join(\"test.md\") \n",
    "path = os.path.abspath(path)\n",
    "dir_path= os.path.dirname(path)\n",
    "\n",
    "report = FileProcesser.load_report(path)\n",
    "chunks = FileProcesser.token_aware_chunking(report)"
   ]
  },
  {
   "cell_type": "code",
   "execution_count": null,
   "id": "d1ca4ae5",
   "metadata": {},
   "outputs": [],
   "source": [
    "train_data = []\n",
    "for idx,chunk in enumerate(chunks):\n",
    "    if(idx==2) :break\n",
    "    start = time.time()\n",
    "    print(f\"Processing Chunk {idx+1}/{len(chunks)}. Use time: \", end=\"\")\n",
    "    res = LLMDataGenerator.generate_data(chunk)\n",
    "    print(f\"LLM Result\\n{res}\\n\\n\\n==================================================\")\n",
    "    train_data.extend(LLMDataGenerator.clean_text(res))\n",
    "    print(f\"{time.time() - start:.4f} sec\")\n",
    "    print(chunk)"
   ]
  },
  {
   "cell_type": "code",
   "execution_count": null,
   "id": "50ff0f9a",
   "metadata": {},
   "outputs": [],
   "source": [
    "print(\"Data generated\")\n",
    "\n",
    "file_name = \"train_data\"\n",
    "FileProcesser.write_to_jsonl(train_data,dir_path,file_name)\n",
    "print(f\"Data write in to jsonl name: {file_name}\")"
   ]
  }
 ],
 "metadata": {
  "kernelspec": {
   "display_name": "analysis",
   "language": "python",
   "name": "python3"
  },
  "language_info": {
   "codemirror_mode": {
    "name": "ipython",
    "version": 3
   },
   "file_extension": ".py",
   "mimetype": "text/x-python",
   "name": "python",
   "nbconvert_exporter": "python",
   "pygments_lexer": "ipython3",
   "version": "3.10.12"
  }
 },
 "nbformat": 4,
 "nbformat_minor": 5
}
